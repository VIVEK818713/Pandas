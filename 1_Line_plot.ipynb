{
  "nbformat": 4,
  "nbformat_minor": 0,
  "metadata": {
    "colab": {
      "name": "1. Line plot.ipynb",
      "provenance": [],
      "collapsed_sections": [],
      "authorship_tag": "ABX9TyMRQZqzngIi8fCSCoNGkSPq",
      "include_colab_link": true
    },
    "kernelspec": {
      "name": "python3",
      "display_name": "Python 3"
    }
  },
  "cells": [
    {
      "cell_type": "markdown",
      "metadata": {
        "id": "view-in-github",
        "colab_type": "text"
      },
      "source": [
        "<a href=\"https://colab.research.google.com/github/VIVEK818713/Pandas/blob/main/1_Line_plot.ipynb\" target=\"_parent\"><img src=\"https://colab.research.google.com/assets/colab-badge.svg\" alt=\"Open In Colab\"/></a>"
      ]
    },
    {
      "cell_type": "code",
      "metadata": {
        "id": "BLjmBZELU6Dn"
      },
      "source": [
        "import pandas as pd\n",
        "import numpy as np\n",
        "import matplotlib.pyplot as plt"
      ],
      "execution_count": null,
      "outputs": []
    },
    {
      "cell_type": "markdown",
      "metadata": {
        "id": "ceOiPRuyWZgT"
      },
      "source": [
        "#Line plot"
      ]
    },
    {
      "cell_type": "code",
      "metadata": {
        "id": "ksxQRBzjWdOu"
      },
      "source": [
        "days=[1,2,3,4,5,6,7,8,9,10,11,12,13,14,15]\n",
        "mrt_temp=[36.6,37,37.7,39,40,43,43.4,45,45.6,40.1,44,45,46.8,47,47.8]"
      ],
      "execution_count": null,
      "outputs": []
    },
    {
      "cell_type": "code",
      "metadata": {
        "id": "M6La_39-W-9F"
      },
      "source": [
        "plt.plot(days,mrt_temp)  \n",
        "plt.show()\n",
        "\n"
      ],
      "execution_count": null,
      "outputs": []
    },
    {
      "cell_type": "markdown",
      "source": [
        "* if you observe the graph then you will be confused\n",
        "* because there is no title, no xlabel and y label\n",
        "* so let's give it these to our graph"
      ],
      "metadata": {
        "id": "pLMu7PWAvl8Q"
      }
    },
    {
      "cell_type": "code",
      "metadata": {
        "id": "FAdMCRsTX5zK"
      },
      "source": [
        "plt.plot(days,mrt_temp)\n",
        "plt.title(\"meerut temp\")\n",
        "plt.xlabel(\"days\")\n",
        "plt.ylabel('temprature')\n",
        "plt.show()\n",
        "\n"
      ],
      "execution_count": null,
      "outputs": []
    },
    {
      "cell_type": "markdown",
      "source": [
        "* The starting point of x axis and y axis is coming autometically\n",
        "* but you want to give your's starting point then.."
      ],
      "metadata": {
        "id": "WnPVnAoKwIDz"
      }
    },
    {
      "cell_type": "code",
      "metadata": {
        "id": "mFVSnJwfYsD0"
      },
      "source": [
        "plt.plot(days,mrt_temp)\n",
        "plt.axis([0,30,0,50])  #[xmin,xmax,ymin,ymax]it must be in list\n",
        "plt.title(\"meerut temp\")\n",
        "plt.xlabel(\"days\")\n",
        "plt.ylabel('temprature')\n",
        "plt.show()\n",
        "\n"
      ],
      "execution_count": null,
      "outputs": []
    },
    {
      "cell_type": "code",
      "metadata": {
        "id": "4YYthfjpZ0_I"
      },
      "source": [
        "plt.plot(days,mrt_temp)\n",
        "#plt.axis([0,30,0,50])\n",
        "plt.title(\"meerut temp\")\n",
        "plt.xlabel(\"days\")\n",
        "plt.ylabel('temprature')\n",
        "plt.show()\n",
        "\n"
      ],
      "execution_count": null,
      "outputs": []
    },
    {
      "cell_type": "markdown",
      "source": [
        "* if you want to change the color of line then use color parameter"
      ],
      "metadata": {
        "id": "7bFXRYSHxCqA"
      }
    },
    {
      "cell_type": "code",
      "metadata": {
        "id": "oFVjHg9uaGvT"
      },
      "source": [
        "plt.plot(days,mrt_temp,color='m')\n",
        "#plt.axis([0,30,0,50])\n",
        "plt.title(\"meerut temp\")\n",
        "plt.xlabel(\"days\")\n",
        "plt.ylabel('temprature')\n",
        "plt.show()\n",
        "\n"
      ],
      "execution_count": null,
      "outputs": []
    },
    {
      "cell_type": "markdown",
      "source": [
        "* if you want to add marker at every change of data then we will use marker parameter\n",
        "* you can take any value for this marker"
      ],
      "metadata": {
        "id": "Ga4MJusuxQK9"
      }
    },
    {
      "cell_type": "code",
      "metadata": {
        "id": "vsLedmLjafxQ"
      },
      "source": [
        "plt.plot(days,mrt_temp,color='m',marker='o')\n",
        "#plt.axis([0,30,0,50])\n",
        "plt.title(\"meerut temp\")\n",
        "plt.xlabel(\"days\")\n",
        "plt.ylabel('temprature')\n",
        "plt.show()\n",
        "\n"
      ],
      "execution_count": null,
      "outputs": []
    },
    {
      "cell_type": "code",
      "metadata": {
        "id": "titRoqLja2vu"
      },
      "source": [
        "plt.plot(days,mrt_temp,color='m',marker='<')\n",
        "#plt.axis([0,30,0,50])\n",
        "plt.title(\"meerut temp\")\n",
        "plt.xlabel(\"days\")\n",
        "plt.ylabel('temprature')\n",
        "plt.show()\n",
        "\n"
      ],
      "execution_count": null,
      "outputs": []
    },
    {
      "cell_type": "code",
      "metadata": {
        "id": "KwgAW7SEa9FK"
      },
      "source": [
        "plt.plot(days,mrt_temp,color='m',marker='o')\n",
        "#plt.axis([0,30,0,50])\n",
        "plt.title(\"meerut temp\")\n",
        "plt.xlabel(\"days\")\n",
        "plt.ylabel('temprature')\n",
        "plt.show()\n",
        "\n"
      ],
      "execution_count": null,
      "outputs": []
    },
    {
      "cell_type": "markdown",
      "source": [
        "* Now if you want the dotted line style then use linestyle parameter\n",
        "* linestyle parameter has many values"
      ],
      "metadata": {
        "id": "jjBjVbsuxxmC"
      }
    },
    {
      "cell_type": "code",
      "metadata": {
        "id": "0SY4-AzybCjk"
      },
      "source": [
        "plt.plot(days,mrt_temp,color='m',marker='o',linestyle='--')\n",
        "\n",
        "\n",
        "\n",
        "#plt.axis([0,30,0,50])\n",
        "\n",
        "\n",
        "plt.title(\"meerut temp\")\n",
        "plt.xlabel(\"days\")\n",
        "plt.ylabel('temprature')\n",
        "plt.show()\n",
        "\n"
      ],
      "execution_count": null,
      "outputs": []
    },
    {
      "cell_type": "code",
      "metadata": {
        "id": "FLYQSYqHbX2-"
      },
      "source": [
        "plt.plot(days,mrt_temp,color='m',marker='o',linestyle='--')\n",
        "#plt.axis([0,30,0,50])\n",
        "plt.title(\"meerut temp\")\n",
        "plt.xlabel(\"days\")\n",
        "plt.ylabel('temprature')\n",
        "plt.show()\n",
        "\n"
      ],
      "execution_count": null,
      "outputs": []
    },
    {
      "cell_type": "markdown",
      "source": [
        "* Now our requirement is to increase the line width\n",
        "* so you can use linewidth parameter"
      ],
      "metadata": {
        "id": "aHQTQo60ydJ9"
      }
    },
    {
      "cell_type": "code",
      "metadata": {
        "id": "SpfUHzmqbjl3"
      },
      "source": [
        "plt.plot(days,mrt_temp,color='m',marker='o',linestyle='--',linewidth=3)\n",
        "\n",
        "\n",
        "\n",
        "#plt.axis([0,30,0,50])\n",
        "\n",
        "\n",
        "plt.title(\"meerut temp\")\n",
        "plt.xlabel(\"days\")\n",
        "plt.ylabel('temprature')\n",
        "plt.show()\n",
        "\n"
      ],
      "execution_count": null,
      "outputs": []
    },
    {
      "cell_type": "markdown",
      "source": [
        "* if you want to increase the marker size \n",
        "* Then use markersize parameter"
      ],
      "metadata": {
        "id": "sISevczzyuUL"
      }
    },
    {
      "cell_type": "code",
      "metadata": {
        "id": "tIp5Cb3ZbykR"
      },
      "source": [
        "plt.plot(days,mrt_temp,color='m',marker='o',linestyle='--',linewidth=3,markersize=10)\n",
        "\n",
        "plt.title(\"meerut temp\")\n",
        "plt.xlabel(\"days\")\n",
        "plt.ylabel('temprature')\n",
        "plt.show()\n",
        "\n"
      ],
      "execution_count": null,
      "outputs": []
    },
    {
      "cell_type": "markdown",
      "source": [
        "* if you want to cnage the color and fontsize of title\n",
        "* use fontsize and color in plt.title()"
      ],
      "metadata": {
        "id": "rFGz--YVzDrL"
      }
    },
    {
      "cell_type": "code",
      "metadata": {
        "id": "lreIV_GAcBKZ"
      },
      "source": [
        "plt.plot(days,mrt_temp,color='m',marker='o',linestyle='--',linewidth=3,markersize=10)\n",
        "\n",
        "plt.title(\"meerut temp\",fontsize=20,color='r')\n",
        "plt.xlabel(\"days\",fontsize=15)\n",
        "plt.ylabel('temprature',fontsize=15)\n",
        "plt.show()\n",
        "\n"
      ],
      "execution_count": null,
      "outputs": []
    },
    {
      "cell_type": "markdown",
      "source": [
        "* same you can do for xlabel and ylabel"
      ],
      "metadata": {
        "id": "9J9pmQKwzj_P"
      }
    },
    {
      "cell_type": "code",
      "metadata": {
        "id": "c47QJfPFcXcC"
      },
      "source": [
        "plt.plot(days,mrt_temp,color='m',marker='o',linestyle='--',linewidth=3,markersize=10)\n",
        "\n",
        "plt.title(\"meerut temp\",fontsize=20,color='r')\n",
        "plt.xlabel(\"days\",fontsize=15,color='g')\n",
        "plt.ylabel('temprature',fontsize=15,color='b')\n",
        "plt.legend([\"mrt_temp\"])\n",
        "plt.show()\n",
        "\n"
      ],
      "execution_count": null,
      "outputs": []
    },
    {
      "cell_type": "markdown",
      "source": [
        "* if you want to use legend in your graph\n",
        "* then use legend parameter but remeber it takesvalue in list with string type value"
      ],
      "metadata": {
        "id": "9AwJ-1Zb0EAJ"
      }
    },
    {
      "cell_type": "code",
      "source": [
        "plt.plot(days,mrt_temp,color='m',marker='o',linestyle='--',linewidth=3,markersize=10)\n",
        "\n",
        "plt.title(\"meerut temp\",fontsize=20,color='r')\n",
        "plt.xlabel(\"days\",fontsize=15,color='g')\n",
        "plt.ylabel('temprature',fontsize=15,color='b')\n",
        "plt.legend([\"mrt_temp\"])\n",
        "plt.show()"
      ],
      "metadata": {
        "id": "WerxL_h30DCW"
      },
      "execution_count": null,
      "outputs": []
    },
    {
      "cell_type": "markdown",
      "source": [
        "* you can shift your legend any where .\n",
        "* by using loc parameter in legend"
      ],
      "metadata": {
        "id": "UEnH2O3_0Up4"
      }
    },
    {
      "cell_type": "code",
      "metadata": {
        "id": "WyFSxTqJdBX5"
      },
      "source": [
        " plt.plot(days,mrt_temp,color='m',marker='o',linestyle='--',linewidth=3,markersize=10)\n",
        "\n",
        "plt.title(\"meerut temp\",fontsize=20,color='r')\n",
        "plt.xlabel(\"days\",fontsize=15)\n",
        "plt.ylabel('temprature',fontsize=15)\n",
        "plt.legend([\"mrt_temp\"],loc=2)\n",
        "plt.show()\n",
        "\n"
      ],
      "execution_count": null,
      "outputs": []
    },
    {
      "cell_type": "markdown",
      "source": [
        "* if you dont want to mention name of legend in lenged()\n",
        "* then use lable parameter in plt.plot()\n",
        "* if you want to give loc in legend then you can take \n",
        "* here we are not using this in legend\n",
        "* * Remember if you are using label in plt.plot() then you have to use plt.legend()\n",
        "* othewise it will give no legend"
      ],
      "metadata": {
        "id": "kKp5j6UM01yR"
      }
    },
    {
      "cell_type": "code",
      "metadata": {
        "id": "kCiAPknxdQiE"
      },
      "source": [
        "plt.plot(days,mrt_temp,color='m',marker='o',linestyle='--',linewidth=3,markersize=10,label=\"meerut line\")\n",
        "\n",
        "plt.title(\"meerut temp\",fontsize=20,color='r')\n",
        "plt.xlabel(\"days\",fontsize=15)\n",
        "plt.ylabel('temprature',fontsize=15)\n",
        "plt.legend()\n",
        "plt.show()\n",
        "\n"
      ],
      "execution_count": null,
      "outputs": []
    },
    {
      "cell_type": "markdown",
      "source": [
        "### grid for line plot\n",
        "* if you want to use grid in back ground\n",
        "* eithr we can use grid method or style module\n",
        "* let's go with style module\n",
        " first import style module\n",
        "* -->from matplotlib import style\n",
        "* use style method style.use('ggplot')"
      ],
      "metadata": {
        "id": "k6rmAZNS27G_"
      }
    },
    {
      "cell_type": "code",
      "metadata": {
        "id": "601ADwbzduwM"
      },
      "source": [
        "from matplotlib import style\n",
        "#for grid"
      ],
      "execution_count": null,
      "outputs": []
    },
    {
      "cell_type": "code",
      "metadata": {
        "id": "uzKqhBCreJev"
      },
      "source": [
        "style.use('ggplot')\n",
        "plt.plot(days,mrt_temp,color='m',marker='o',linestyle='--',linewidth=3,markersize=10,label=\"meerut line\")\n",
        "\n",
        "plt.title(\"meerut temp\",fontsize=20,color='r')\n",
        "plt.xlabel(\"days\",fontsize=15)\n",
        "plt.ylabel('temprature',fontsize=15)\n",
        "plt.legend()\n",
        "plt.show()\n",
        "\n"
      ],
      "execution_count": null,
      "outputs": []
    },
    {
      "cell_type": "markdown",
      "source": [
        "* if you want to change the color of grid \n",
        "* Then use color parameter in plt.grid()"
      ],
      "metadata": {
        "id": "6eMh2qj54Gfd"
      }
    },
    {
      "cell_type": "code",
      "metadata": {
        "id": "iPbpQtdQef1c"
      },
      "source": [
        "plt.plot(days,mrt_temp,color='m',marker='o',linestyle='--',linewidth=3,markersize=10,label=\"meerut line\")\n",
        "plt.grid(color='r')\n",
        "plt.title(\"meerut temp\",fontsize=20,color='r')\n",
        "plt.xlabel(\"days\",fontsize=15)\n",
        "plt.ylabel('temprature',fontsize=15)\n",
        "plt.legend()\n",
        "plt.show()\n",
        "\n"
      ],
      "execution_count": null,
      "outputs": []
    },
    {
      "cell_type": "markdown",
      "source": [
        "* we can also change grid linestyle and linwidth"
      ],
      "metadata": {
        "id": "l1bBGTRK4gkV"
      }
    },
    {
      "cell_type": "code",
      "metadata": {
        "id": "BrBw5WPme254"
      },
      "source": [
        "plt.plot(days,mrt_temp,color='m',marker='o',linestyle='--',linewidth=3,markersize=10,label=\"meerut line\")\n",
        "plt.grid(color='r',linestyle='--',linewidth=2)\n",
        "plt.title(\"meerut temp\",fontsize=20,color='r')\n",
        "plt.xlabel(\"days\",fontsize=15)\n",
        "plt.ylabel('temprature',fontsize=15)\n",
        "plt.legend()\n",
        "plt.show()\n",
        "\n"
      ],
      "execution_count": null,
      "outputs": []
    },
    {
      "cell_type": "markdown",
      "source": [
        "### Add two line plot in one graph"
      ],
      "metadata": {
        "id": "-XkQXBGz41ax"
      }
    },
    {
      "cell_type": "code",
      "metadata": {
        "id": "6R9STqo8fDjy"
      },
      "source": [
        "days=[1,2,3,4,5,6,7,8,9,10,11,12,13,14,15]\n",
        "mrt_temp=[36.6,37,37.7,39,40,43,43.4,45,45.6,40.1,44,45,46.8,47,47.8]\n",
        "gzb_temp=[33,34.5,44,33,22,22.9,23.5,44,44.6,33.8,38,39,37,47,10]"
      ],
      "execution_count": null,
      "outputs": []
    },
    {
      "cell_type": "code",
      "metadata": {
        "id": "qUd1nW8IgFAe"
      },
      "source": [
        "plt.plot(days,mrt_temp,color='m',marker='o',linestyle='--',linewidth=3,markersize=10,label=\"meerut line\")\n",
        "plt.plot(days,gzb_temp,color='g',marker='>',linestyle='-',linewidth=3,markersize=10,label=\"Gzb line\")\n",
        "\n",
        "plt.grid(color='w',linestyle='-',linewidth=2)\n",
        "plt.title(\"meerut and gzb temp\",fontsize=20,color='r')\n",
        "plt.xlabel(\"days\",fontsize=15)\n",
        "plt.ylabel('temprature',fontsize=15)\n",
        "plt.legend()\n",
        "plt.show()\n",
        "\n"
      ],
      "execution_count": null,
      "outputs": []
    },
    {
      "cell_type": "markdown",
      "source": [
        "### Draw Line Plot for any dataset"
      ],
      "metadata": {
        "id": "2C0Z8Dz96WS3"
      }
    },
    {
      "cell_type": "code",
      "metadata": {
        "id": "53-oSWGbgdwM"
      },
      "source": [
        "import pandas as pd\n",
        "import matplotlib.pyplot as plt"
      ],
      "execution_count": null,
      "outputs": []
    },
    {
      "cell_type": "code",
      "metadata": {
        "id": "eRPNe5I8g5kk"
      },
      "source": [
        "df=pd.read_csv('/content/drive/MyDrive/Colab Notebooks/03 Matplotlib/Lineplot temp data.csv')\n",
        "df"
      ],
      "execution_count": null,
      "outputs": []
    },
    {
      "cell_type": "code",
      "metadata": {
        "id": "brmPEMGphFbI"
      },
      "source": [
        "plt.plot(df['days'],df['mrt temp'])"
      ],
      "execution_count": null,
      "outputs": []
    },
    {
      "cell_type": "code",
      "metadata": {
        "id": "nolfGmbjhZxi"
      },
      "source": [
        "x=df['days']\n",
        "y=df['mrt temp']\n",
        "plt.plot(x,y,color='m',marker='o',linestyle='--',linewidth=3,markersize=10,label=\"meerut line\")\n",
        "plt.plot(x,df['gzb temp'],color='g',marker='>',linestyle='-',linewidth=3,markersize=10,label=\"Gzb line\")\n",
        "\n",
        "plt.grid(color='w',linestyle='-',linewidth=2)\n",
        "plt.title(\"meerut and gzb temp\",fontsize=20,color='r')\n",
        "plt.xlabel(\"days\",fontsize=15)\n",
        "plt.ylabel('temprature',fontsize=15)\n",
        "plt.legend()\n",
        "plt.show()\n",
        "\n"
      ],
      "execution_count": null,
      "outputs": []
    },
    {
      "cell_type": "code",
      "metadata": {
        "id": "TD5koeUVhtuz"
      },
      "source": [
        ""
      ],
      "execution_count": null,
      "outputs": []
    }
  ]
}