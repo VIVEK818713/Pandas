{
  "nbformat": 4,
  "nbformat_minor": 0,
  "metadata": {
    "colab": {
      "name": "01 pandas.ipynb",
      "provenance": [],
      "collapsed_sections": [
        "cp9STYxW2eov",
        "6SG2AN_s-LPK",
        "6ItEJ74cvaxs",
        "MNbnMeJAsie-",
        "nuY7fKpbtv4a",
        "W84quCObuiaK",
        "wq4hebaNvrDz",
        "p-C72yrLxAYQ",
        "7iaSmmUn-hQQ",
        "0T7vSPVKGiOi",
        "tc5BfQQPLRZb",
        "-2kQ4n_RTMGf",
        "L2x5BOmZUuqL",
        "6hRxEyp2U48u",
        "Nbd-ca9CU_YY",
        "oUU32GtuVKOI",
        "wwuQZnb7Y_db",
        "F7irIAI21B8Y",
        "j0SZqUKr5NrO",
        "HvzrKcJTc2Bc",
        "eDdVPz6ejiXf"
      ],
      "mount_file_id": "1YwTSnx7DMnNV7hGVCbfRqW3K5dp1PfIG",
      "authorship_tag": "ABX9TyPZywYzMi/TDsuiX+fJgpvw",
      "include_colab_link": true
    },
    "kernelspec": {
      "name": "python3",
      "display_name": "Python 3"
    }
  },
  "cells": [
    {
      "cell_type": "markdown",
      "metadata": {
        "id": "view-in-github",
        "colab_type": "text"
      },
      "source": [
        "<a href=\"https://colab.research.google.com/github/VIVEK818713/Pandas/blob/main/01_pandas.ipynb\" target=\"_parent\"><img src=\"https://colab.research.google.com/assets/colab-badge.svg\" alt=\"Open In Colab\"/></a>"
      ]
    },
    {
      "cell_type": "code",
      "metadata": {
        "id": "ZB3sGB8U5_H8"
      },
      "source": [
        "import pandas as pd"
      ],
      "execution_count": null,
      "outputs": []
    },
    {
      "cell_type": "code",
      "metadata": {
        "id": "Q5ZK2NtcvkYu"
      },
      "source": [
        "pd.__version__"
      ],
      "execution_count": null,
      "outputs": []
    },
    {
      "cell_type": "markdown",
      "metadata": {
        "id": "bCy3aJwdvwJK"
      },
      "source": [
        "### Series"
      ]
    },
    {
      "cell_type": "code",
      "metadata": {
        "id": "mAeEFYJMvy6v"
      },
      "source": [
        "list_1=[1,2,-3,6.3,'vivek']"
      ],
      "execution_count": null,
      "outputs": []
    },
    {
      "cell_type": "code",
      "metadata": {
        "id": "-uOFX__IwFPL"
      },
      "source": [
        "series_1=pd.Series(list_1)\n",
        "print(series_1)"
      ],
      "execution_count": null,
      "outputs": []
    },
    {
      "cell_type": "code",
      "metadata": {
        "id": "mHbi0TetwFMF"
      },
      "source": [
        "type(series_1)"
      ],
      "execution_count": null,
      "outputs": []
    },
    {
      "cell_type": "code",
      "metadata": {
        "id": "t7M-r7LfwFJw"
      },
      "source": [
        "series_2=pd.Series([1,2,3,3.4])\n",
        "print(series_2)"
      ],
      "execution_count": null,
      "outputs": []
    },
    {
      "cell_type": "code",
      "metadata": {
        "id": "1V_2VUx-wFHD"
      },
      "source": [
        "empty=pd.Series([])\n",
        "print(empty)"
      ],
      "execution_count": null,
      "outputs": []
    },
    {
      "cell_type": "code",
      "metadata": {
        "id": "MlHkYNhmwFEG"
      },
      "source": [
        "s3=pd.Series([1,2,3,4],index=['a','b','c','d'])\n",
        "print(s3)"
      ],
      "execution_count": null,
      "outputs": []
    },
    {
      "cell_type": "code",
      "metadata": {
        "id": "k8eVd6bUwFAg"
      },
      "source": [
        "series_3=pd.Series([1,2,3,4],index=['a','b','c','d'],\n",
        "                   dtype=float)\n",
        "print(series_3)"
      ],
      "execution_count": null,
      "outputs": []
    },
    {
      "cell_type": "code",
      "metadata": {
        "id": "gr48VtR3xvit"
      },
      "source": [
        "series_3=pd.Series([1,2,3,4],index=['a','b','c','d'],dtype=float,name='data value')\n",
        "print(series_3)"
      ],
      "execution_count": null,
      "outputs": []
    },
    {
      "cell_type": "code",
      "metadata": {
        "id": "Zyc3B9wpxvgN"
      },
      "source": [
        "scalar_s=pd.Series(0.5)\n",
        "print(scalar_s)"
      ],
      "execution_count": null,
      "outputs": []
    },
    {
      "cell_type": "code",
      "metadata": {
        "id": "fuyK7__2xvch"
      },
      "source": [
        "scalar_s=pd.Series(0.5,index=[1,2,3])\n",
        "print(scalar_s)"
      ],
      "execution_count": null,
      "outputs": []
    },
    {
      "cell_type": "code",
      "metadata": {
        "id": "YddEM4_MxvXN"
      },
      "source": [
        "dict_s=pd.Series({'1':'a','2':'b'})\n",
        "print(dict_s)"
      ],
      "execution_count": null,
      "outputs": []
    },
    {
      "cell_type": "code",
      "metadata": {
        "id": "NbXj4MFpxvUx"
      },
      "source": [
        "s1=pd.Series([1,2,3,4])\n",
        "s2=pd.Series([6,7,8,9])\n",
        "s3=pd.Series([11,22])"
      ],
      "execution_count": null,
      "outputs": []
    },
    {
      "cell_type": "code",
      "metadata": {
        "id": "EyHVKqnJx1qL"
      },
      "source": [
        "s1+s2"
      ],
      "execution_count": null,
      "outputs": []
    },
    {
      "cell_type": "code",
      "metadata": {
        "id": "xrbQffyAxvRq"
      },
      "source": [
        "s1.add(s2)"
      ],
      "execution_count": null,
      "outputs": []
    },
    {
      "cell_type": "code",
      "metadata": {
        "id": "sCL6BcOQxvOj"
      },
      "source": [
        "s2.add(s3)"
      ],
      "execution_count": null,
      "outputs": []
    },
    {
      "cell_type": "code",
      "metadata": {
        "id": "8JksnEu3xvLn"
      },
      "source": [
        "max(s1)"
      ],
      "execution_count": null,
      "outputs": []
    },
    {
      "cell_type": "code",
      "metadata": {
        "id": "_6yZYvndxvIy"
      },
      "source": [
        "s2[s2>6]"
      ],
      "execution_count": null,
      "outputs": []
    },
    {
      "cell_type": "markdown",
      "metadata": {
        "id": "cp9STYxW2eov"
      },
      "source": [
        "### DataFrame"
      ]
    },
    {
      "cell_type": "code",
      "metadata": {
        "id": "7FNkjoI72KJs"
      },
      "source": [
        "empt_df=pd.DataFrame()\n",
        "print(empt_df)"
      ],
      "execution_count": null,
      "outputs": []
    },
    {
      "cell_type": "markdown",
      "metadata": {
        "id": "ALgMJTK-2uLT"
      },
      "source": [
        "Data frame using List"
      ]
    },
    {
      "cell_type": "code",
      "metadata": {
        "id": "3idlbFfE2KGL"
      },
      "source": [
        "l1=['a','b','c']\n",
        "df1=pd.DataFrame(l1)\n",
        "df1"
      ],
      "execution_count": null,
      "outputs": []
    },
    {
      "cell_type": "code",
      "metadata": {
        "id": "1dFhB5jA2KDh"
      },
      "source": [
        "l2=[[1,2,3],['a','b','c']]\n",
        "df2=pd.DataFrame(l2)\n",
        "df2"
      ],
      "execution_count": null,
      "outputs": []
    },
    {
      "cell_type": "markdown",
      "metadata": {
        "id": "QCi7nfgG3cM6"
      },
      "source": [
        "Dataframe using Dictionary"
      ]
    },
    {
      "cell_type": "code",
      "metadata": {
        "id": "rMGJTG5b3Yjq"
      },
      "source": [
        "dict1={'id':['a','b','c'],'SN':['e','f','g']}\n",
        "df3=pd.DataFrame(dict1)\n",
        "df3"
      ],
      "execution_count": null,
      "outputs": []
    },
    {
      "cell_type": "markdown",
      "metadata": {
        "id": "q-UM1bJ84Jk2"
      },
      "source": [
        "Data frame list of dictionary"
      ]
    },
    {
      "cell_type": "code",
      "metadata": {
        "id": "HeMO-3sE2KAu"
      },
      "source": [
        "lstdict=[{'a':1,'b':4},{'a':5,'b':2}]\n",
        "df4=pd.DataFrame(lstdict)\n",
        "df4"
      ],
      "execution_count": null,
      "outputs": []
    },
    {
      "cell_type": "code",
      "metadata": {
        "id": "0GYhKLiS2J9R"
      },
      "source": [
        "lstdict=[{'a':1,'b':4},{'a':5,'b':2,'c':6}]\n",
        "df4=pd.DataFrame(lstdict)\n",
        "df4"
      ],
      "execution_count": null,
      "outputs": []
    },
    {
      "cell_type": "markdown",
      "metadata": {
        "id": "ww4G6WpS5SOv"
      },
      "source": [
        "Dictionary of series"
      ]
    },
    {
      "cell_type": "code",
      "metadata": {
        "id": "dAQD3UR65G4E"
      },
      "source": [
        "dic_sr={'id':pd.Series([1,2,3]),'SN':pd.Series([5,6,7])}\n",
        "df5=pd.DataFrame(dic_sr)\n",
        "df5"
      ],
      "execution_count": null,
      "outputs": []
    },
    {
      "cell_type": "markdown",
      "metadata": {
        "id": "6SG2AN_s-LPK"
      },
      "source": [
        "## Read CSV file using pandas"
      ]
    },
    {
      "cell_type": "code",
      "metadata": {
        "id": "7NACPATxMZjd"
      },
      "source": [
        "#pd.read_csv(' please use your file path with file extension')"
      ],
      "execution_count": null,
      "outputs": []
    },
    {
      "cell_type": "code",
      "metadata": {
        "id": "nqBVWqI22J6P"
      },
      "source": [
        "import pandas as pd\n",
        "pd.read_csv('/content/drive/MyDrive/data sets/pandas data set/Fortune_10.csv')# please use your file path"
      ],
      "execution_count": null,
      "outputs": []
    },
    {
      "cell_type": "code",
      "metadata": {
        "id": "8tq7qK6-2J2s"
      },
      "source": [
        "import os\n",
        "print(os.getcwd())"
      ],
      "execution_count": null,
      "outputs": []
    },
    {
      "cell_type": "markdown",
      "metadata": {
        "id": "6ItEJ74cvaxs"
      },
      "source": [
        "##pandas parameter--nrows,usecols,skiprows,index_col"
      ]
    },
    {
      "cell_type": "code",
      "metadata": {
        "id": "EYES0ICi2Jvb"
      },
      "source": [
        "df=pd.read_csv('/content/drive/MyDrive/data sets/pandas data set/Fortune_10.csv')# please use your file path\n",
        "df"
      ],
      "execution_count": null,
      "outputs": []
    },
    {
      "cell_type": "code",
      "metadata": {
        "id": "1aNNT9nI1ltA"
      },
      "source": [
        "df1=pd.read_csv('/content/drive/MyDrive/data sets/pandas data set/Fortune_10.csv',nrows=4)\n",
        "df1"
      ],
      "execution_count": null,
      "outputs": []
    },
    {
      "cell_type": "code",
      "metadata": {
        "id": "WOQiSFk01LTS"
      },
      "source": [
        "df"
      ],
      "execution_count": null,
      "outputs": []
    },
    {
      "cell_type": "code",
      "metadata": {
        "id": "9rx74lDg1ve_"
      },
      "source": [
        "df1"
      ],
      "execution_count": null,
      "outputs": []
    },
    {
      "cell_type": "markdown",
      "metadata": {
        "id": "sdGHYlRXr1ic"
      },
      "source": [
        "what are the columns name in dataframe"
      ]
    },
    {
      "cell_type": "code",
      "metadata": {
        "id": "ZL2HYKd3r6Ml"
      },
      "source": [
        "df.columns"
      ],
      "execution_count": null,
      "outputs": []
    },
    {
      "cell_type": "markdown",
      "metadata": {
        "id": "MNbnMeJAsie-"
      },
      "source": [
        "## print perticular columns name"
      ]
    },
    {
      "cell_type": "code",
      "metadata": {
        "id": "39rLbO6IsQl-"
      },
      "source": [
        "df=pd.read_csv('/content/drive/MyDrive/data sets/pandas data set/Fortune_10.csv',usecols=[0,5])\n",
        "df"
      ],
      "execution_count": null,
      "outputs": []
    },
    {
      "cell_type": "code",
      "metadata": {
        "id": "E0WXC4ayuHrJ"
      },
      "source": [
        "df"
      ],
      "execution_count": null,
      "outputs": []
    },
    {
      "cell_type": "code",
      "metadata": {
        "id": "2GdSN8_E236G"
      },
      "source": [
        "df=pd.read_csv('/content/drive/MyDrive/data sets/pandas data set/Fortune_10.csv')\n",
        "df"
      ],
      "execution_count": null,
      "outputs": []
    },
    {
      "cell_type": "markdown",
      "metadata": {
        "id": "nuY7fKpbtv4a"
      },
      "source": [
        "##skip the rows in dataframe"
      ]
    },
    {
      "cell_type": "code",
      "metadata": {
        "id": "2vFYTQXEsQjQ"
      },
      "source": [
        "df=pd.read_csv('/content/drive/MyDrive/data sets/pandas data set/Fortune_10.csv',skiprows=3)\n",
        "df"
      ],
      "execution_count": null,
      "outputs": []
    },
    {
      "cell_type": "code",
      "metadata": {
        "id": "9PPgKg9fsQc4"
      },
      "source": [
        "df=pd.read_csv('/content/drive/MyDrive/data sets/pandas data set/Fortune_10.csv',skiprows=[3,5,6])\n",
        "df"
      ],
      "execution_count": null,
      "outputs": []
    },
    {
      "cell_type": "code",
      "metadata": {
        "id": "G8l9dD9A3cgY"
      },
      "source": [
        "df=pd.read_csv('/content/drive/MyDrive/data sets/pandas data set/Fortune_10.csv',skiprows=[3,5,6])\n",
        "df"
      ],
      "execution_count": null,
      "outputs": []
    },
    {
      "cell_type": "markdown",
      "metadata": {
        "id": "W84quCObuiaK"
      },
      "source": [
        "## change the default index "
      ]
    },
    {
      "cell_type": "code",
      "metadata": {
        "id": "gLvMOItBsQaY"
      },
      "source": [
        "df=pd.read_csv('/content/drive/MyDrive/data sets/pandas data set/Fortune_10.csv')\n",
        "df"
      ],
      "execution_count": null,
      "outputs": []
    },
    {
      "cell_type": "code",
      "metadata": {
        "id": "FvulDQN4sQXE"
      },
      "source": [
        "df=pd.read_csv('/content/drive/MyDrive/data sets/pandas data set/Fortune_10.csv',index_col='ID')\n",
        "df"
      ],
      "execution_count": null,
      "outputs": []
    },
    {
      "cell_type": "code",
      "metadata": {
        "id": "_TPWLFx7sQUg"
      },
      "source": [
        "df=pd.read_csv('/content/drive/MyDrive/data sets/pandas data set/Fortune_10.csv',index_col=2)\n",
        "df"
      ],
      "execution_count": null,
      "outputs": []
    },
    {
      "cell_type": "markdown",
      "metadata": {
        "id": "wq4hebaNvrDz"
      },
      "source": [
        "## pandas parameter--header,prefix(header none is must),names\n",
        "* please understand header , prefix,names by yourself"
      ]
    },
    {
      "cell_type": "code",
      "metadata": {
        "id": "TYr8J2bR4o06"
      },
      "source": [
        "df=pd.read_csv('/content/drive/MyDrive/data sets/pandas data set/Fortune_10.csv')\n",
        "df"
      ],
      "execution_count": null,
      "outputs": []
    },
    {
      "cell_type": "code",
      "metadata": {
        "id": "a0AL8eWo4vA3"
      },
      "source": [
        "df.head(2)"
      ],
      "execution_count": null,
      "outputs": []
    },
    {
      "cell_type": "code",
      "metadata": {
        "id": "9oBXxPRV5E57"
      },
      "source": [
        "df.tail()"
      ],
      "execution_count": null,
      "outputs": []
    },
    {
      "cell_type": "markdown",
      "metadata": {
        "id": "p-C72yrLxAYQ"
      },
      "source": [
        "## head,tail,dtype,true_values,false_values"
      ]
    },
    {
      "cell_type": "code",
      "metadata": {
        "id": "PSiUuNMUsQRp"
      },
      "source": [
        "df=pd.read_csv('/content/drive/MyDrive/data sets/pandas data set/Fortune_10.csv',dtype={'ID':int})\n",
        "df"
      ],
      "execution_count": null,
      "outputs": []
    },
    {
      "cell_type": "markdown",
      "metadata": {
        "id": "7iaSmmUn-hQQ"
      },
      "source": [
        "## Handling Missing values\n",
        "* NA  #NA -NaN   -nan  null NULL n/a N/A #N/A N/A ...."
      ]
    },
    {
      "cell_type": "code",
      "metadata": {
        "id": "eU9OggPSsQGT"
      },
      "source": [
        "import pandas as pd\n",
        "df= pd.read_csv('/content/xyz.csv')\n",
        "df"
      ],
      "execution_count": null,
      "outputs": []
    },
    {
      "cell_type": "markdown",
      "metadata": {
        "id": "jHeBRwQqNF8A"
      },
      "source": [
        "* na_values()--we can make any value as NaN in dataframe "
      ]
    },
    {
      "cell_type": "code",
      "metadata": {
        "id": "1Bu7uU34sQDp"
      },
      "source": [
        "df= pd.read_csv('/content/xyz.csv',na_values='NOT AVIL')\n",
        "df"
      ],
      "execution_count": null,
      "outputs": []
    },
    {
      "cell_type": "code",
      "metadata": {
        "id": "plTfrj7FsQAV"
      },
      "source": [
        "df= pd.read_csv('/content/xyz.csv')\n",
        "df"
      ],
      "execution_count": null,
      "outputs": []
    },
    {
      "cell_type": "markdown",
      "metadata": {
        "id": "oL6C24yDNYpv"
      },
      "source": [
        "* if you have columns and it has other than NaN values that should be consider as NaN so use dictionary"
      ]
    },
    {
      "cell_type": "code",
      "metadata": {
        "id": "8NIsQyB8CK_a"
      },
      "source": [
        "df= pd.read_csv('/content/xyz.csv',\n",
        "                na_values={'Industry':'NO VALUE','Growth':'NOT AVIL'})\n",
        "df"
      ],
      "execution_count": null,
      "outputs": []
    },
    {
      "cell_type": "code",
      "metadata": {
        "id": "DVONwzjbCK7d"
      },
      "source": [
        "df= pd.read_csv('/content/xyz.csv')\n",
        "df"
      ],
      "execution_count": null,
      "outputs": []
    },
    {
      "cell_type": "code",
      "metadata": {
        "id": "n6z4-obmCK02"
      },
      "source": [
        "df= pd.read_csv('/content/xyz.csv',keep_default_na=False)\n",
        "df"
      ],
      "execution_count": null,
      "outputs": []
    },
    {
      "cell_type": "code",
      "metadata": {
        "id": "_DLmKfvUEsrX"
      },
      "source": [
        "df= pd.read_csv('/content/xyz.csv'')\n",
        "df"
      ],
      "execution_count": null,
      "outputs": []
    },
    {
      "cell_type": "markdown",
      "metadata": {
        "id": "B5BaKDI7N5rj"
      },
      "source": [
        "* if there is NaN value then isnull() will return True where NaN is there in Dataframe"
      ]
    },
    {
      "cell_type": "code",
      "metadata": {
        "id": "aloPeS2xCKxo"
      },
      "source": [
        "df.isnull()"
      ],
      "execution_count": null,
      "outputs": []
    },
    {
      "cell_type": "markdown",
      "metadata": {
        "id": "77TqlxmMOGBU"
      },
      "source": [
        "* if you want to check how many values in columns then use df.isnull().sum()"
      ]
    },
    {
      "cell_type": "code",
      "metadata": {
        "id": "bOoEg4M5CKut"
      },
      "source": [
        "df.isnull().sum()"
      ],
      "execution_count": null,
      "outputs": []
    },
    {
      "cell_type": "markdown",
      "metadata": {
        "id": "NK-FGh4ROUaM"
      },
      "source": [
        "* if you need total missing values in dataframe then use below code"
      ]
    },
    {
      "cell_type": "code",
      "metadata": {
        "id": "iRRx0dKRsP8v"
      },
      "source": [
        "df.isnull().sum().sum()"
      ],
      "execution_count": null,
      "outputs": []
    },
    {
      "cell_type": "markdown",
      "metadata": {
        "id": "h6kEhhFbFKZM"
      },
      "source": [
        "notnull is just reverse of isnull"
      ]
    },
    {
      "cell_type": "markdown",
      "metadata": {
        "id": "0T7vSPVKGiOi"
      },
      "source": [
        "## Drop NA\n"
      ]
    },
    {
      "cell_type": "code",
      "metadata": {
        "id": "AmlL8w32sP4x"
      },
      "source": [
        "df=pd.read_csv('/content/xyz.csv')\n",
        "df"
      ],
      "execution_count": null,
      "outputs": []
    },
    {
      "cell_type": "markdown",
      "metadata": {
        "id": "TbVVkNZZOhm-"
      },
      "source": [
        "* dropna() will drop all rows which have missing valuse"
      ]
    },
    {
      "cell_type": "code",
      "metadata": {
        "id": "zZrpB84QGg7H"
      },
      "source": [
        "df.dropna()"
      ],
      "execution_count": null,
      "outputs": []
    },
    {
      "cell_type": "markdown",
      "metadata": {
        "id": "JDupbwNqOqkF"
      },
      "source": [
        "* if you want to drop missing values in columns then use axis=1 default is axis=0(row wise)"
      ]
    },
    {
      "cell_type": "code",
      "metadata": {
        "id": "VEku3H14Gg4M"
      },
      "source": [
        "df.dropna(axis=1)"
      ],
      "execution_count": null,
      "outputs": []
    },
    {
      "cell_type": "markdown",
      "metadata": {
        "id": "71hN-Q85O7dw"
      },
      "source": [
        "* 'how' parameter take 2 values \n",
        "1.'any' \n",
        "2.'all' \n",
        "* any will search missing values and drop it(default is any)\n",
        "* all will search if all the row value is missing then it will drop that row"
      ]
    },
    {
      "cell_type": "code",
      "metadata": {
        "id": "xgvy1694Gg1S"
      },
      "source": [
        "df.dropna(how='any')"
      ],
      "execution_count": null,
      "outputs": []
    },
    {
      "cell_type": "code",
      "metadata": {
        "id": "_gyAcIdq17mX"
      },
      "source": [
        "df=pd.read_csv(\"/content/xyz.csv\")\n",
        "df"
      ],
      "execution_count": null,
      "outputs": []
    },
    {
      "cell_type": "code",
      "metadata": {
        "id": "e6EOAJOxGgyE"
      },
      "source": [
        "df.dropna(axis=1, how='any')"
      ],
      "execution_count": null,
      "outputs": []
    },
    {
      "cell_type": "code",
      "metadata": {
        "id": "romi_FGOP6Cw"
      },
      "source": [
        "df=pd.read_csv(\"/content/xyz.csv\")\n",
        "df  # for 'all' change your dataset for this and delete atleast 1 row and upload again the file"
      ],
      "execution_count": null,
      "outputs": []
    },
    {
      "cell_type": "code",
      "metadata": {
        "id": "Kk5r_7w4Ggut"
      },
      "source": [
        "df.dropna(how='all')"
      ],
      "execution_count": null,
      "outputs": []
    },
    {
      "cell_type": "code",
      "metadata": {
        "id": "ZBBXw_AP2fv6"
      },
      "source": [
        "df\n"
      ],
      "execution_count": null,
      "outputs": []
    },
    {
      "cell_type": "code",
      "metadata": {
        "id": "lpXXjHbZItIM"
      },
      "source": [
        "df.dropna(thresh=2)"
      ],
      "execution_count": null,
      "outputs": []
    },
    {
      "cell_type": "code",
      "metadata": {
        "id": "IypYHsP3KC7q"
      },
      "source": [
        "df=pd.read_csv('/content/xyz.csv')\n",
        "df"
      ],
      "execution_count": null,
      "outputs": []
    },
    {
      "cell_type": "markdown",
      "metadata": {
        "id": "9qzt2rFaQMBa"
      },
      "source": [
        "* if you want to drop rows in a particular colmn or columns the use 'subset' parameter"
      ]
    },
    {
      "cell_type": "code",
      "metadata": {
        "id": "wc_PE8fLItFO"
      },
      "source": [
        "df.dropna(subset=['Growth','Industry'])"
      ],
      "execution_count": null,
      "outputs": []
    },
    {
      "cell_type": "code",
      "metadata": {
        "id": "5rRuADaqItCb"
      },
      "source": [
        "df=pd.read_csv('/content/xyz.csv')\n",
        "df"
      ],
      "execution_count": null,
      "outputs": []
    },
    {
      "cell_type": "markdown",
      "metadata": {
        "id": "s0aW-8oxQYkg"
      },
      "source": [
        "* if you dont want to create new dataframe means you just modify the dataframe so for this use inpalce=True.\n",
        "as we know that default value of inplace is false"
      ]
    },
    {
      "cell_type": "code",
      "metadata": {
        "id": "WdWp0tpm4hnx"
      },
      "source": [
        "df.dropna(inplace=True)\n"
      ],
      "execution_count": null,
      "outputs": []
    },
    {
      "cell_type": "code",
      "metadata": {
        "id": "guE3npGk4qqS"
      },
      "source": [
        "df"
      ],
      "execution_count": null,
      "outputs": []
    },
    {
      "cell_type": "code",
      "metadata": {
        "id": "iP47ArT0Is_J"
      },
      "source": [
        "df.dropna(inplace=True)\n",
        "df"
      ],
      "execution_count": null,
      "outputs": []
    },
    {
      "cell_type": "markdown",
      "metadata": {
        "id": "tc5BfQQPLRZb"
      },
      "source": [
        "## fillna()\n",
        "* now we know the missing values \n",
        "* and how to drop missing values\n",
        "* now our task is to fill that missing values by using fillna() function"
      ]
    },
    {
      "cell_type": "code",
      "metadata": {
        "id": "QSr1jRsvIs8b"
      },
      "source": [
        "df=pd.read_csv('/content/xyz.csv')\n",
        "df\n"
      ],
      "execution_count": null,
      "outputs": []
    },
    {
      "cell_type": "markdown",
      "metadata": {
        "id": "6d4IKjjtROWn"
      },
      "source": [
        "* if there is any missing value and we want to fill NaN value with 'miet' or any value which you want you can take"
      ]
    },
    {
      "cell_type": "code",
      "metadata": {
        "id": "mWYOeMLZIs5R"
      },
      "source": [
        "df.fillna('miet')"
      ],
      "execution_count": null,
      "outputs": []
    },
    {
      "cell_type": "code",
      "metadata": {
        "id": "s4yLLR4pIsxf"
      },
      "source": [
        "# you can also use value parameter\n",
        "df.fillna(value='xxxx')"
      ],
      "execution_count": null,
      "outputs": []
    },
    {
      "cell_type": "code",
      "metadata": {
        "id": "r6M0_QsE51yo"
      },
      "source": [
        "df"
      ],
      "execution_count": null,
      "outputs": []
    },
    {
      "cell_type": "markdown",
      "metadata": {
        "id": "pLSAkuXYRjo5"
      },
      "source": [
        "* if you want to fill missing value in particular column or columns the use dictionary in value parameter\n"
      ]
    },
    {
      "cell_type": "code",
      "metadata": {
        "id": "CmtkHh1VIsuU"
      },
      "source": [
        "df.fillna(value={'Name':'miet'})"
      ],
      "execution_count": null,
      "outputs": []
    },
    {
      "cell_type": "code",
      "metadata": {
        "id": "yRzfSvsA69qT"
      },
      "source": [
        "df"
      ],
      "execution_count": null,
      "outputs": []
    },
    {
      "cell_type": "markdown",
      "metadata": {
        "id": "LkC4qOKMSM_U"
      },
      "source": [
        "* next parameter is method it will take 'backfill', 'bfill', 'pad', 'ffill', None, default value is None"
      ]
    },
    {
      "cell_type": "code",
      "metadata": {
        "id": "LarnJGMqIsqw"
      },
      "source": [
        "df.fillna(method='ffill',)\n",
        "# ffill or pad is forward fill means the upper value will fill in missing value in that columns"
      ],
      "execution_count": null,
      "outputs": []
    },
    {
      "cell_type": "code",
      "metadata": {
        "id": "f50AjPn2MINy"
      },
      "source": [
        "df.fillna(method='bfill')\n",
        "# bfill or backfill is backward fill means the next value will fill in missing value in that columns"
      ],
      "execution_count": null,
      "outputs": []
    },
    {
      "cell_type": "code",
      "metadata": {
        "id": "CkHqHMecMIKh"
      },
      "source": [
        "df.fillna(method='ffill',axis=1)# with axis you have to use either value or method"
      ],
      "execution_count": null,
      "outputs": []
    },
    {
      "cell_type": "code",
      "metadata": {
        "id": "nkNvyxp0MIHY"
      },
      "source": [
        "df.fillna(axis=1, method='ffill')"
      ],
      "execution_count": null,
      "outputs": []
    },
    {
      "cell_type": "code",
      "metadata": {
        "id": "u3bTUMi8MIEI"
      },
      "source": [
        "df.fillna(method='ffill',limit=2)# with limit you have to use either value or method"
      ],
      "execution_count": null,
      "outputs": []
    },
    {
      "cell_type": "code",
      "metadata": {
        "id": "7jj0ePiQMIAR"
      },
      "source": [
        "df.fillna(value=0,limit=2)"
      ],
      "execution_count": null,
      "outputs": []
    },
    {
      "cell_type": "code",
      "metadata": {
        "id": "TY-eE3eq85j2"
      },
      "source": [
        ""
      ],
      "execution_count": null,
      "outputs": []
    },
    {
      "cell_type": "code",
      "metadata": {
        "id": "FfEwAh3vMH9Y"
      },
      "source": [
        "df.fillna(value=0,inplace=True)\n"
      ],
      "execution_count": null,
      "outputs": []
    },
    {
      "cell_type": "markdown",
      "metadata": {
        "id": "ee7eofYsRztm"
      },
      "source": [
        "* some time we want to drop column or columns from the dataframe then use 'drop' not dropna.\n",
        "* please remember when you use drop() then axis must be there otherwise it will return error"
      ]
    },
    {
      "cell_type": "code",
      "metadata": {
        "id": "qLPG1enL6GeF"
      },
      "source": [
        "df=pd.read_csv('/content/xyz.csv')\n",
        "df"
      ],
      "execution_count": null,
      "outputs": []
    },
    {
      "cell_type": "code",
      "metadata": {
        "id": "nATJj4QE6H9i"
      },
      "source": [
        "df.drop(['Industry','Profit'],axis=1)"
      ],
      "execution_count": null,
      "outputs": []
    },
    {
      "cell_type": "markdown",
      "metadata": {
        "id": "-2kQ4n_RTMGf"
      },
      "source": [
        "### Replace()\n",
        "* some time we have to replace some value with other value then we use replace()\n",
        "* and there are some parameters which replace() can take let's understand one by one"
      ]
    },
    {
      "cell_type": "code",
      "metadata": {
        "id": "DSLASeTnMH4E"
      },
      "source": [
        "df=pd.read_csv('/content/xyz.csv')\n",
        "df"
      ],
      "execution_count": null,
      "outputs": []
    },
    {
      "cell_type": "code",
      "metadata": {
        "id": "cd3ByxQyRUx2"
      },
      "source": [
        "df.replace(to_replace='Miet',value=0)\n",
        "#df.replace('Miet',0) you can use any one both are same here we are using positional parameter"
      ],
      "execution_count": null,
      "outputs": []
    },
    {
      "cell_type": "code",
      "metadata": {
        "id": "V2DYSdSuRUvV"
      },
      "source": [
        "df.replace('Health',0)"
      ],
      "execution_count": null,
      "outputs": []
    },
    {
      "cell_type": "code",
      "metadata": {
        "id": "8Y75jyiFRUce"
      },
      "source": [
        "# if you want to a particular values to replace with single value\n",
        "df.replace([0,1,2,3,4,5,6,7,8,9,10],0)\n"
      ],
      "execution_count": null,
      "outputs": []
    },
    {
      "cell_type": "code",
      "metadata": {
        "id": "HFQbFOp0W1Ga"
      },
      "source": [
        "# if you want to a particular values to replace with same lenght value\n",
        "df.replace([0,1,2,3,4,5,6,7,8,9,10],[11,22,33,44,55,66,77,88,99,111,45])"
      ],
      "execution_count": null,
      "outputs": []
    },
    {
      "cell_type": "code",
      "metadata": {
        "id": "QC5gGGGOW07C"
      },
      "source": [
        "# if you want to a particular columns values to replace with single value then use dictionary\n",
        "df.replace({'Industry':'Health','Growth':'Miet'},'vivek')"
      ],
      "execution_count": null,
      "outputs": []
    },
    {
      "cell_type": "markdown",
      "metadata": {
        "id": "O-kEh9gDXy6v"
      },
      "source": [
        "regex"
      ]
    },
    {
      "cell_type": "code",
      "metadata": {
        "id": "5exFF5T7RUZU"
      },
      "source": [
        "df.replace('[a-zA-Z]',0)# it will reflect no effect so use regex parameter"
      ],
      "execution_count": null,
      "outputs": []
    },
    {
      "cell_type": "code",
      "metadata": {
        "id": "MlRBKn6UMHsr"
      },
      "source": [
        "df.replace('[a-zA-Z]',0,regex=True)"
      ],
      "execution_count": null,
      "outputs": []
    },
    {
      "cell_type": "code",
      "metadata": {
        "id": "VR81tFHhwE8Q"
      },
      "source": [
        "df.replace('[0-9]',0,regex=True)"
      ],
      "execution_count": null,
      "outputs": []
    },
    {
      "cell_type": "code",
      "metadata": {
        "id": "uzXDgk6pjo53"
      },
      "source": [
        "df.replace({'Industry':'[a-zA-Z]'},0,regex=True)"
      ],
      "execution_count": null,
      "outputs": []
    },
    {
      "cell_type": "code",
      "metadata": {
        "id": "N7bulPWUjo1v"
      },
      "source": [
        "df"
      ],
      "execution_count": null,
      "outputs": []
    },
    {
      "cell_type": "code",
      "metadata": {
        "id": "FYk-c9m7joyi"
      },
      "source": [
        "df.replace('Health',method='ffill')"
      ],
      "execution_count": null,
      "outputs": []
    },
    {
      "cell_type": "code",
      "metadata": {
        "id": "Sf1774-ajof9"
      },
      "source": [
        "df.replace('Health',method='ffill',limit=1)"
      ],
      "execution_count": null,
      "outputs": []
    },
    {
      "cell_type": "code",
      "metadata": {
        "id": "ifrn9Yj5ARPs"
      },
      "source": [
        "df=pd.read_csv('/content/xyz.csv')\n",
        "df"
      ],
      "execution_count": null,
      "outputs": []
    },
    {
      "cell_type": "code",
      "metadata": {
        "id": "_V_kM7wyAgHL"
      },
      "source": [
        "df.fillna(0,inplace=True)"
      ],
      "execution_count": null,
      "outputs": []
    },
    {
      "cell_type": "code",
      "metadata": {
        "id": "fQMjgT3SnEKS"
      },
      "source": [
        "df"
      ],
      "execution_count": null,
      "outputs": []
    },
    {
      "cell_type": "markdown",
      "metadata": {
        "id": "L2x5BOmZUuqL"
      },
      "source": [
        "### save you dataframe to csv file"
      ]
    },
    {
      "cell_type": "code",
      "metadata": {
        "id": "wAbK2_00rqL5"
      },
      "source": [
        "df.to_csv(\"new.csv\")"
      ],
      "execution_count": null,
      "outputs": []
    },
    {
      "cell_type": "markdown",
      "metadata": {
        "id": "6hRxEyp2U48u"
      },
      "source": [
        "### save you dataframe to excel file"
      ]
    },
    {
      "cell_type": "code",
      "metadata": {
        "id": "BvV2HTJnA7xN"
      },
      "source": [
        "df.to_excel(\"new1.xls\",index=False,sheet_name=\"vivek\")"
      ],
      "execution_count": null,
      "outputs": []
    },
    {
      "cell_type": "markdown",
      "metadata": {
        "id": "Nbd-ca9CU_YY"
      },
      "source": [
        "### save you dataframe to html file"
      ]
    },
    {
      "cell_type": "code",
      "metadata": {
        "id": "pcH_oIfZBogl"
      },
      "source": [
        "df.to_html(\"new2.html\")"
      ],
      "execution_count": null,
      "outputs": []
    },
    {
      "cell_type": "markdown",
      "metadata": {
        "id": "oUU32GtuVKOI"
      },
      "source": [
        "### you can read any file also like ...."
      ]
    },
    {
      "cell_type": "code",
      "metadata": {
        "id": "aPMSiRUCB40c"
      },
      "source": [
        "pd.read_excel('new1.xls')"
      ],
      "execution_count": null,
      "outputs": []
    },
    {
      "cell_type": "code",
      "metadata": {
        "id": "4kXWEiVtVYam"
      },
      "source": [
        "pd.read_html('new2.html')"
      ],
      "execution_count": null,
      "outputs": []
    },
    {
      "cell_type": "markdown",
      "metadata": {
        "id": "wwuQZnb7Y_db"
      },
      "source": [
        "### now try to change data type of columns\n",
        "* astype()\n",
        "* t0_numeric()\n",
        "* convert_dtypes()"
      ]
    },
    {
      "cell_type": "code",
      "metadata": {
        "id": "UakImbPBDFKl"
      },
      "source": [
        "df=pd.read_csv('/content/xyz.csv')\n",
        "df"
      ],
      "execution_count": null,
      "outputs": []
    },
    {
      "cell_type": "code",
      "metadata": {
        "id": "A2IobjG0DLY0"
      },
      "source": [
        "df.fillna(0,inplace=True)"
      ],
      "execution_count": null,
      "outputs": []
    },
    {
      "cell_type": "code",
      "metadata": {
        "id": "EvqH7PlvDSmE"
      },
      "source": [
        "df"
      ],
      "execution_count": null,
      "outputs": []
    },
    {
      "cell_type": "code",
      "metadata": {
        "id": "ALf6fp4JCOIl"
      },
      "source": [
        "df.dtypes"
      ],
      "execution_count": null,
      "outputs": []
    },
    {
      "cell_type": "code",
      "metadata": {
        "id": "lC5sJjLcYeUD"
      },
      "source": [
        "df1=df.astype({'Profit':int})\n",
        "df1"
      ],
      "execution_count": null,
      "outputs": []
    },
    {
      "cell_type": "code",
      "metadata": {
        "id": "Bvl3mMZMbwPf"
      },
      "source": [
        "df1.dtypes"
      ],
      "execution_count": null,
      "outputs": []
    },
    {
      "cell_type": "code",
      "metadata": {
        "id": "K5O7byUYboiJ"
      },
      "source": [
        "df=df.astype({'Profit':str})\n",
        "df.dtypes"
      ],
      "execution_count": null,
      "outputs": []
    },
    {
      "cell_type": "code",
      "metadata": {
        "id": "4m_RUh3SbNT8"
      },
      "source": [
        "df['Profit']=df['Profit'].astype(int)"
      ],
      "execution_count": null,
      "outputs": []
    },
    {
      "cell_type": "code",
      "metadata": {
        "id": "r02H7fMEcJIB"
      },
      "source": [
        "df.dtypes"
      ],
      "execution_count": null,
      "outputs": []
    },
    {
      "cell_type": "markdown",
      "metadata": {
        "id": "ojVTS-SDfdKX"
      },
      "source": [
        "Use to_numeric for single column"
      ]
    },
    {
      "cell_type": "code",
      "metadata": {
        "id": "aNB5L_qwegCK"
      },
      "source": [
        "df['Profit']=pd.to_numeric(df['Profit'])"
      ],
      "execution_count": null,
      "outputs": []
    },
    {
      "cell_type": "code",
      "metadata": {
        "id": "Stwj8aoxfO5O"
      },
      "source": [
        "df.Profit.dtype"
      ],
      "execution_count": null,
      "outputs": []
    },
    {
      "cell_type": "markdown",
      "metadata": {
        "id": "PEJ1LgvsfjaK"
      },
      "source": [
        "use to_numeric for multiple columns us apply() also"
      ]
    },
    {
      "cell_type": "code",
      "metadata": {
        "id": "R7ZYTFb1g2-I"
      },
      "source": [
        "df=pd.read_csv('/content/Fortune_10.csv')\n",
        "df"
      ],
      "execution_count": null,
      "outputs": []
    },
    {
      "cell_type": "code",
      "metadata": {
        "id": "XG1cJYe9ef5n"
      },
      "source": [
        "df[['Profit','Inception']]=df[['Profit','Inception']].apply(pd.to_numeric)"
      ],
      "execution_count": null,
      "outputs": []
    },
    {
      "cell_type": "code",
      "metadata": {
        "id": "5gc6w8flef2D"
      },
      "source": [
        "df.dtypes"
      ],
      "execution_count": null,
      "outputs": []
    },
    {
      "cell_type": "markdown",
      "metadata": {
        "id": "S0fnM7HVhvX0"
      },
      "source": [
        "convert_dtypes() it will convert automatically datatype according to your dataframe"
      ]
    },
    {
      "cell_type": "code",
      "metadata": {
        "id": "45reEib5efsN"
      },
      "source": [
        "df=pd.read_csv('/content/xyz.csv')\n",
        "df.dtypes"
      ],
      "execution_count": null,
      "outputs": []
    },
    {
      "cell_type": "code",
      "metadata": {
        "id": "ujVzKStsefn0"
      },
      "source": [
        "df=df.convert_dtypes()"
      ],
      "execution_count": null,
      "outputs": []
    },
    {
      "cell_type": "code",
      "metadata": {
        "id": "PvzN3tTFefkw"
      },
      "source": [
        "df.dtypes"
      ],
      "execution_count": null,
      "outputs": []
    },
    {
      "cell_type": "markdown",
      "metadata": {
        "id": "F7irIAI21B8Y"
      },
      "source": [
        "### Group by"
      ]
    },
    {
      "cell_type": "code",
      "metadata": {
        "id": "4XsWz9N81Bm2"
      },
      "source": [
        "import pandas as pd\n",
        "df = pd.read_csv('/content/student_result1.csv')\n",
        "df"
      ],
      "execution_count": null,
      "outputs": []
    },
    {
      "cell_type": "code",
      "metadata": {
        "id": "OCNOKJNv1Bhm"
      },
      "source": [
        "gr1 = df.groupby(by = 'Section')\n",
        "gr1"
      ],
      "execution_count": null,
      "outputs": []
    },
    {
      "cell_type": "code",
      "metadata": {
        "id": "zQIZ2M5J1BXm"
      },
      "source": [
        "gr1.groups"
      ],
      "execution_count": null,
      "outputs": []
    },
    {
      "cell_type": "code",
      "metadata": {
        "id": "-42D9vos1BUW"
      },
      "source": [
        "df.groupby(['Section', 'Class']).groups\n"
      ],
      "execution_count": null,
      "outputs": []
    },
    {
      "cell_type": "code",
      "metadata": {
        "id": "pAgR4Dxz1BQj"
      },
      "source": [
        "for Class, df_1 in gr1:\n",
        "    print(Class)\n",
        "    print(df_1)"
      ],
      "execution_count": null,
      "outputs": []
    },
    {
      "cell_type": "code",
      "metadata": {
        "id": "scUepYYm1BCP"
      },
      "source": [
        "list(gr1)              # convert to list\n"
      ],
      "execution_count": null,
      "outputs": []
    },
    {
      "cell_type": "code",
      "metadata": {
        "id": "sxROOK4w2lmy"
      },
      "source": [
        "dict(list(gr1))        # convert to dict"
      ],
      "execution_count": null,
      "outputs": []
    },
    {
      "cell_type": "code",
      "metadata": {
        "id": "tpKUlwWv2li0"
      },
      "source": [
        "#Selecting a group\n",
        " \n",
        "# A single group can be selected using get_group():\n",
        " \n",
        "gr3 = df.groupby('Class').get_group(10)\n",
        "gr3"
      ],
      "execution_count": null,
      "outputs": []
    },
    {
      "cell_type": "code",
      "metadata": {
        "id": "H6KmrjAT2lf_"
      },
      "source": [
        "gr3 = df.groupby('Section').get_group('A')\n",
        "gr3"
      ],
      "execution_count": null,
      "outputs": []
    },
    {
      "cell_type": "code",
      "metadata": {
        "id": "kWbIwHo22ldE"
      },
      "source": [
        "# Applying a function into group\n",
        "gr1.sum()"
      ],
      "execution_count": null,
      "outputs": []
    },
    {
      "cell_type": "code",
      "metadata": {
        "id": "IE1A_QTn2laJ"
      },
      "source": [
        "gr1.mean()"
      ],
      "execution_count": null,
      "outputs": []
    },
    {
      "cell_type": "code",
      "metadata": {
        "id": "PGDgwetS2lVU"
      },
      "source": [
        "gr1.describe()"
      ],
      "execution_count": null,
      "outputs": []
    },
    {
      "cell_type": "code",
      "metadata": {
        "id": "SNNtLHbl2lR3"
      },
      "source": [
        "gr1.agg(['sum', 'max', 'mean'])\n"
      ],
      "execution_count": null,
      "outputs": []
    },
    {
      "cell_type": "markdown",
      "metadata": {
        "id": "j0SZqUKr5NrO"
      },
      "source": [
        "### Merging Function --Multiple dataframe or csv file"
      ]
    },
    {
      "cell_type": "code",
      "metadata": {
        "id": "-B3eNAaU5NVM"
      },
      "source": [
        "df1=pd.DataFrame({'ID':[1,2,3,4],'CLASS':[9,10,11,12]})\n",
        "df2=pd.DataFrame({'ID':[1,2,3,4],'NAME':['A','B','C','D']})"
      ],
      "execution_count": null,
      "outputs": []
    },
    {
      "cell_type": "code",
      "metadata": {
        "id": "ZZvp0mU25NQq"
      },
      "source": [
        "pd.merge(df1,df2,on='ID')# some columne must be same so use on parameter"
      ],
      "execution_count": null,
      "outputs": []
    },
    {
      "cell_type": "code",
      "metadata": {
        "id": "z8XnzAlm5NNL"
      },
      "source": [
        "pd.merge(df2,df1,on='ID')"
      ],
      "execution_count": null,
      "outputs": []
    },
    {
      "cell_type": "code",
      "metadata": {
        "id": "mOpFlu8E5NI6"
      },
      "source": [
        "# if common column have differen value then wats happen\n",
        "df2=pd.DataFrame({'ID':[1,2,3,5],'NAME':['A','B','C','D']})\n",
        "pd.merge(df1,df2,on='ID')# so now it will give common ID values only"
      ],
      "execution_count": null,
      "outputs": []
    },
    {
      "cell_type": "markdown",
      "metadata": {
        "id": "PcfvFZhIYa7U"
      },
      "source": [
        "* observe all the output for how parameter it is something like DBMS join "
      ]
    },
    {
      "cell_type": "code",
      "metadata": {
        "id": "S5T86DOf5NDC"
      },
      "source": [
        "# how parameter use inner,outer,left,right try this...\n",
        "pd.merge(df1,df2,on='ID',how='inner')# inner is default"
      ],
      "execution_count": null,
      "outputs": []
    },
    {
      "cell_type": "code",
      "metadata": {
        "id": "ItIuQBfV5M_H"
      },
      "source": [
        "pd.merge(df1,df2,on='ID',how='left')"
      ],
      "execution_count": null,
      "outputs": []
    },
    {
      "cell_type": "code",
      "metadata": {
        "id": "RrQcLNAoWQ04"
      },
      "source": [
        "pd.merge(df1,df2,on='ID',how='right')"
      ],
      "execution_count": null,
      "outputs": []
    },
    {
      "cell_type": "code",
      "metadata": {
        "id": "_Debn54nWQxO"
      },
      "source": [
        "pd.merge(df1,df2,on='ID',how='outer')"
      ],
      "execution_count": null,
      "outputs": []
    },
    {
      "cell_type": "markdown",
      "metadata": {
        "id": "nJulqUSvYy3J"
      },
      "source": [
        "* now under stand indicator parameter it takes default vale False so here we will use True value \n",
        "* it will create extra column _merge \n",
        "* it will show which value is present"
      ]
    },
    {
      "cell_type": "code",
      "metadata": {
        "id": "VgZPrbiXWQso"
      },
      "source": [
        "pd.merge(df1,df2,on='ID',how='outer',indicator=True)"
      ],
      "execution_count": null,
      "outputs": []
    },
    {
      "cell_type": "markdown",
      "metadata": {
        "id": "kDiBsVpiZhhZ"
      },
      "source": [
        "* if we want to check differnet value in both dataframe \n",
        "* then we use left_index and right_index \n",
        "* default value is False so we will use True here\n",
        "* now it will create two new columns"
      ]
    },
    {
      "cell_type": "code",
      "metadata": {
        "id": "vHp3qCzLWQon"
      },
      "source": [
        "df1=pd.DataFrame({'ID':[1,2,3,4],'CLASS':[9,10,11,12]})\n",
        "df2=pd.DataFrame({'ID':[5,6,7,8],'NAME':['A','B','C','D']})"
      ],
      "execution_count": null,
      "outputs": []
    },
    {
      "cell_type": "code",
      "metadata": {
        "id": "JXD76LphWQaP"
      },
      "source": [
        "pd.merge(df1,df2,left_index=True,right_index=True)"
      ],
      "execution_count": null,
      "outputs": []
    },
    {
      "cell_type": "code",
      "metadata": {
        "id": "4HCbUC8nal4u"
      },
      "source": [
        "# if we not use left_index and right_index then we will get nothing \n",
        "# so if you have multiindex then use these parameter\n",
        "# you have to use both left_index and right_index otherwise it will produce error\n",
        "pd.merge(df1,df2)"
      ],
      "execution_count": null,
      "outputs": []
    },
    {
      "cell_type": "markdown",
      "metadata": {
        "id": "T4cJlODJbwQV"
      },
      "source": [
        "* if you have same datframe and you are merging it then whats happen"
      ]
    },
    {
      "cell_type": "code",
      "metadata": {
        "id": "9KSm5HUDal1F"
      },
      "source": [
        "df1=pd.DataFrame({'ID':[1,2,3,4],'CLASS':[9,10,11,12]})"
      ],
      "execution_count": null,
      "outputs": []
    },
    {
      "cell_type": "code",
      "metadata": {
        "id": "5Bge9sqFalnZ"
      },
      "source": [
        "df2=pd.DataFrame({'ID':[1,2,3,4],'CLASS':[9,10,11,12]})"
      ],
      "execution_count": null,
      "outputs": []
    },
    {
      "cell_type": "code",
      "metadata": {
        "id": "lcjaNPRaaliY"
      },
      "source": [
        "pd.merge(df1,df2,on='ID')"
      ],
      "execution_count": null,
      "outputs": []
    },
    {
      "cell_type": "markdown",
      "metadata": {
        "id": "Yu4kqQpxcRKz"
      },
      "source": [
        "* if you want to change the name of columns then use suffixes parameter default it will use column_X and column_Y\n",
        "* it can take tuple and list"
      ]
    },
    {
      "cell_type": "code",
      "metadata": {
        "id": "Msq38Sy1aleD"
      },
      "source": [
        "pd.merge(df1,df2,on='ID',suffixes=('_First','_Second'))"
      ],
      "execution_count": null,
      "outputs": []
    },
    {
      "cell_type": "markdown",
      "metadata": {
        "id": "HvzrKcJTc2Bc"
      },
      "source": [
        "## Concate function--it is similar to merge()"
      ]
    },
    {
      "cell_type": "code",
      "metadata": {
        "id": "Q6qo2bDaalZ7"
      },
      "source": [
        "  s1=pd.Series([1,2,3,4])\n",
        "  s2=pd.Series([5,6,7,8])\n",
        "  display(s1,s2)"
      ],
      "execution_count": null,
      "outputs": []
    },
    {
      "cell_type": "markdown",
      "metadata": {
        "id": "QDjeMG6rvs3m"
      },
      "source": [
        "* now understand the parameter of concate()\n",
        "* let's take objs parameter(you should use list for objs)\n",
        "* it takes series, dataframe as input"
      ]
    },
    {
      "cell_type": "code",
      "metadata": {
        "id": "gSKwyO9GuAZP"
      },
      "source": [
        "pd.concat([s1,s2])"
      ],
      "execution_count": null,
      "outputs": []
    },
    {
      "cell_type": "code",
      "metadata": {
        "id": "Ha0Jcz2bFMs4"
      },
      "source": [
        "df1=pd.DataFrame({'ID':[1,2,3,4],'CLASS':[5,6,7,8],'Name':['A','B','C','D']})\n",
        "df2=pd.DataFrame({'ID':[5,6,7,8],'CLASS':[9,10,11,12],'Name':['E','F','G','H']})"
      ],
      "execution_count": null,
      "outputs": []
    },
    {
      "cell_type": "code",
      "metadata": {
        "id": "HmhXD04YFMfV"
      },
      "source": [
        "pd.concat([df1,df2])#here we concat at axis 0 which means row wise"
      ],
      "execution_count": null,
      "outputs": []
    },
    {
      "cell_type": "code",
      "metadata": {
        "id": "v77NcEjMalUp"
      },
      "source": [
        "pd.concat([df1,df2],axis=1)"
      ],
      "execution_count": null,
      "outputs": []
    },
    {
      "cell_type": "code",
      "metadata": {
        "id": "mnvs5JYnWQV_"
      },
      "source": [
        "#in this case index is not in order so we can make it in order\n",
        "# so we will use ignor_index parameter\n",
        "pd.concat([df1,df2],axis=0,ignore_index=True)"
      ],
      "execution_count": null,
      "outputs": []
    },
    {
      "cell_type": "code",
      "metadata": {
        "id": "qveykzQuUnZw"
      },
      "source": [
        "df1=pd.DataFrame({'ID':[1,2,3,4],'CLASS':[5,6,7,8],'Name':['A','B','C','D']})\n",
        "df2=pd.DataFrame({'ID':[1,2],'CLASS':[9,10],'Name':['E','F']})"
      ],
      "execution_count": null,
      "outputs": []
    },
    {
      "cell_type": "code",
      "metadata": {
        "id": "AqY9oYq4UnWL"
      },
      "source": [
        "pd.concat([df1,df2])"
      ],
      "execution_count": null,
      "outputs": []
    },
    {
      "cell_type": "code",
      "metadata": {
        "id": "Hz4rNudbUnPf"
      },
      "source": [
        "pd.concat([df1,df2],axis=1)# here it is using join parameter as outer means union"
      ],
      "execution_count": null,
      "outputs": []
    },
    {
      "cell_type": "code",
      "metadata": {
        "id": "a5tJUcPkWQRg"
      },
      "source": [
        "pd.concat([df1,df2],axis=1,join='outer')"
      ],
      "execution_count": null,
      "outputs": []
    },
    {
      "cell_type": "code",
      "metadata": {
        "id": "3HcB1dK1Vfbu"
      },
      "source": [
        "pd.concat([df1,df2],axis=1,join='inner')# inner means intersection"
      ],
      "execution_count": null,
      "outputs": []
    },
    {
      "cell_type": "code",
      "metadata": {
        "id": "S1VZf3y5WAdT"
      },
      "source": [
        "df1=pd.DataFrame({'ID':[1,2,3,4],'CLASS':[5,6,7,8],'Name':['A','B','C','D']})\n",
        "df2=pd.DataFrame({'ID':[5,6,7,8],'CLASS':[9,10,11,12],'Name':['E','F','G','H']})"
      ],
      "execution_count": null,
      "outputs": []
    },
    {
      "cell_type": "markdown",
      "metadata": {
        "id": "xLHWcKp8W_Jz"
      },
      "source": [
        "* if you want to seprate dataframe from combine dataframe then use keys parameter"
      ]
    },
    {
      "cell_type": "code",
      "metadata": {
        "id": "8hYpWL4-WAaO"
      },
      "source": [
        "pd.concat([df1,df2],keys=['df1','df2'])"
      ],
      "execution_count": null,
      "outputs": []
    },
    {
      "cell_type": "code",
      "metadata": {
        "id": "GX-8ioPNWAWz"
      },
      "source": [
        "pd.concat([df1,df2],keys=['first df','second df'])"
      ],
      "execution_count": null,
      "outputs": []
    },
    {
      "cell_type": "code",
      "metadata": {
        "id": "vYTaPakkVlCp"
      },
      "source": [
        "pd.concat([df1,df2],keys=['first df1','second df2'],axis=1)"
      ],
      "execution_count": null,
      "outputs": []
    },
    {
      "cell_type": "markdown",
      "metadata": {
        "id": "GbQ44agAXgXs"
      },
      "source": [
        "* if you want to concat differn columns names dat frame then.."
      ]
    },
    {
      "cell_type": "code",
      "metadata": {
        "id": "PkN4pILrXnZa"
      },
      "source": [
        "df1=pd.DataFrame({'ID':[1,2,3,4],'CLASS':[5,6,7,8],'Name':['A','B','C','D']})\n",
        "df2=pd.DataFrame({'MARKS':[11,22,33,44]})"
      ],
      "execution_count": null,
      "outputs": []
    },
    {
      "cell_type": "code",
      "metadata": {
        "id": "PodNl9PgXnWk"
      },
      "source": [
        "pd.concat([df1,df2])"
      ],
      "execution_count": null,
      "outputs": []
    },
    {
      "cell_type": "code",
      "metadata": {
        "id": "cT_4eE6SZXPH"
      },
      "source": [
        ""
      ],
      "execution_count": null,
      "outputs": []
    },
    {
      "cell_type": "markdown",
      "metadata": {
        "id": "eDdVPz6ejiXf"
      },
      "source": [
        "## join()--DataFrame Join is a convenient method for combining the colums of two partiallly differently-indexed\n",
        "* parameter of join ()-other,on ,how,lsuffix rsuufix"
      ]
    },
    {
      "cell_type": "code",
      "metadata": {
        "id": "ws7Hx5h78BTd"
      },
      "source": [
        "df1=pd.DataFrame({'A':[1,2,3,4],'B':[10,20,30,40]})\n",
        "df2=pd.DataFrame({'C':[4,5,6,5],'D':[101,202,303,404]})"
      ],
      "execution_count": null,
      "outputs": []
    },
    {
      "cell_type": "code",
      "metadata": {
        "id": "vQHrNvAt8p4M"
      },
      "source": [
        "display(df1,df2)"
      ],
      "execution_count": null,
      "outputs": []
    },
    {
      "cell_type": "markdown",
      "metadata": {
        "id": "kBzSlAxLlUkK"
      },
      "source": [
        "*other : DataFrame, Series, or list of DataFrame"
      ]
    },
    {
      "cell_type": "code",
      "metadata": {
        "id": "YPSa3h_580wM"
      },
      "source": [
        "df1.join(df2)"
      ],
      "execution_count": null,
      "outputs": []
    },
    {
      "cell_type": "markdown",
      "metadata": {
        "id": "rba7cVDkltd5"
      },
      "source": [
        "* index is different then we can not join this"
      ]
    },
    {
      "cell_type": "code",
      "metadata": {
        "id": "a6qPWydamxSI"
      },
      "source": [
        "df1=pd.DataFrame({'A':[1,2,3,4],'B':[10,20,30,40]},index=['a','b','c','d'])\n",
        "df2=pd.DataFrame({'C':[4,5],'D':[101,202]})# here index is different\n",
        "# so it will give NaN for the unmatched index\n",
        "# if you want to join two DataFrame then it is a must that both indexes must be same try yourself"
      ],
      "execution_count": null,
      "outputs": []
    },
    {
      "cell_type": "code",
      "metadata": {
        "id": "CTxuyYuJm1HG"
      },
      "source": [
        "df1.join(df2)"
      ],
      "execution_count": null,
      "outputs": []
    },
    {
      "cell_type": "code",
      "metadata": {
        "id": "ts3WvFHn9PJR"
      },
      "source": [
        "df1=pd.DataFrame({'A':[1,2,3,4],'B':[10,20,30,40]},index=['a','b','c','d'])\n",
        "df2=pd.DataFrame({'C':[4,5],'D':[101,202]},index=['a','b'])# here df2 index is less than df1"
      ],
      "execution_count": null,
      "outputs": []
    },
    {
      "cell_type": "code",
      "metadata": {
        "id": "W4kHYaOQ9lHT"
      },
      "source": [
        "df1.join(df2)"
      ],
      "execution_count": null,
      "outputs": []
    },
    {
      "cell_type": "markdown",
      "metadata": {
        "id": "GYY7zsTHmVjK"
      },
      "source": [
        "* if you want to handle this then use 'how' parameter\n",
        "* 'how' parameter will take value left,right,inner,outer"
      ]
    },
    {
      "cell_type": "code",
      "metadata": {
        "id": "sfsCkU6J9pGy"
      },
      "source": [
        "df1.join(df2,how='left')"
      ],
      "execution_count": null,
      "outputs": []
    },
    {
      "cell_type": "code",
      "metadata": {
        "id": "EqxB1329-U8n"
      },
      "source": [
        "df1.join(df2,how='right')"
      ],
      "execution_count": null,
      "outputs": []
    },
    {
      "cell_type": "code",
      "metadata": {
        "id": "ccPwUYSM-a17"
      },
      "source": [
        "df1.join(df2,how='inner')# inner is work as right inner is like intersection also"
      ],
      "execution_count": null,
      "outputs": []
    },
    {
      "cell_type": "code",
      "metadata": {
        "id": "9wXA4pgX-mTL"
      },
      "source": [
        "df1.join(df2,how='outer')# outer is work as left inner is like union also"
      ],
      "execution_count": null,
      "outputs": []
    },
    {
      "cell_type": "markdown",
      "metadata": {
        "id": "MIO1ayQUn8ef"
      },
      "source": [
        "* if you have same columns name then use lsuffix or rsuffix parameter to distinguish the DataFarme"
      ]
    },
    {
      "cell_type": "code",
      "metadata": {
        "id": "gpfVCI4u-qoA"
      },
      "source": [
        "df1=pd.DataFrame({'A':[1,2,3,4],'B':[10,20,30,40]},index=['a','b','c','d'])\n",
        "df2=pd.DataFrame({'A':[4,5],'D':[101,202]},index=['a','b'])"
      ],
      "execution_count": null,
      "outputs": []
    },
    {
      "cell_type": "code",
      "metadata": {
        "id": "gU7YQEXoopY-"
      },
      "source": [
        "# if you try to join this then it will produce error because of same columns name\n",
        "# let's try this\n",
        "df1.join(df2)"
      ],
      "execution_count": null,
      "outputs": []
    },
    {
      "cell_type": "code",
      "metadata": {
        "id": "tnDol4m4__Ah"
      },
      "source": [
        "df1.join(df2,rsuffix='_2')# now it will work"
      ],
      "execution_count": null,
      "outputs": []
    },
    {
      "cell_type": "code",
      "metadata": {
        "id": "x4GIOQNwpLSG"
      },
      "source": [
        "df1.join(df2,lsuffix='_1')# now it will work"
      ],
      "execution_count": null,
      "outputs": []
    },
    {
      "cell_type": "markdown",
      "metadata": {
        "id": "WkdvyFDlpShn"
      },
      "source": [
        "## Pandas Append() \n",
        "* Append() is used to append rows of other data frame to the end of the given dataframe,returning a new dataframe object"
      ]
    },
    {
      "cell_type": "code",
      "metadata": {
        "id": "Wn1tuxsAADDd"
      },
      "source": [
        "#append()\n",
        "df1=pd.DataFrame({'A':[1,2,3,4],'B':[10,20,30,40]})\n",
        "df2=pd.DataFrame({'A':[1,2,3,4],'B':[10,20,30,40]})"
      ],
      "execution_count": null,
      "outputs": []
    },
    {
      "cell_type": "code",
      "metadata": {
        "id": "8AEKP3Q4Bzvs"
      },
      "source": [
        "display(df1,df2)"
      ],
      "execution_count": null,
      "outputs": []
    },
    {
      "cell_type": "code",
      "metadata": {
        "id": "BGgvtlLBB24y"
      },
      "source": [
        "df1.append(df2)"
      ],
      "execution_count": null,
      "outputs": []
    },
    {
      "cell_type": "markdown",
      "metadata": {
        "id": "OaWPM1bPqGD4"
      },
      "source": [
        "* if you change the index then use ignore_index"
      ]
    },
    {
      "cell_type": "code",
      "metadata": {
        "id": "Qsw2ztT6B-He"
      },
      "source": [
        "df1.append(df2,ignore_index=True)"
      ],
      "execution_count": null,
      "outputs": []
    },
    {
      "cell_type": "markdown",
      "metadata": {
        "id": "KFUxYGUvqaC-"
      },
      "source": [
        "* if dataframe columns are different"
      ]
    },
    {
      "cell_type": "code",
      "metadata": {
        "id": "Mg3N9JrjCS9o"
      },
      "source": [
        "df1=pd.DataFrame({'A':[1,2,3,4],'B':[10,20,30,40])\n",
        "df2=pd.DataFrame({'C':[1,2,3,4],'D':[10,20,30,40]})"
      ],
      "execution_count": null,
      "outputs": []
    },
    {
      "cell_type": "code",
      "metadata": {
        "id": "1QXHyJA_Ck1m"
      },
      "source": [
        "df1.append(df2,ignore_index=True)"
      ],
      "execution_count": null,
      "outputs": []
    },
    {
      "cell_type": "markdown",
      "metadata": {
        "id": "uzp9nh9mrIvM"
      },
      "source": [
        "## Pivot Table\n",
        "* we use pivot table to summarize and aggregate the data and it return new dataframe"
      ]
    },
    {
      "cell_type": "code",
      "metadata": {
        "id": "ZK1PPRinCocd"
      },
      "source": [
        "#pivot table\n",
        "df=pd.read_csv('/content/movie.csv')\n",
        "df"
      ],
      "execution_count": null,
      "outputs": []
    },
    {
      "cell_type": "code",
      "metadata": {
        "id": "3lrgGn2iEq85"
      },
      "source": [
        "df.pivot_table(index='Genre')# now it will give mean value \n",
        "# and we will change it after some time"
      ],
      "execution_count": null,
      "outputs": []
    },
    {
      "cell_type": "code",
      "metadata": {
        "id": "Un3PU195F5EK"
      },
      "source": [
        "df.pivot_table(index='Genre',columns='Year')"
      ],
      "execution_count": null,
      "outputs": []
    },
    {
      "cell_type": "code",
      "metadata": {
        "id": "bsuP12NaGs6J"
      },
      "source": [
        "df.pivot_table(index='Genre',columns='Year',aggfunc='count')"
      ],
      "execution_count": null,
      "outputs": []
    },
    {
      "cell_type": "code",
      "metadata": {
        "id": "PESISR9sHOLO"
      },
      "source": [
        "df.pivot_table(index='Genre',columns='Year',aggfunc='sum')"
      ],
      "execution_count": null,
      "outputs": []
    },
    {
      "cell_type": "code",
      "metadata": {
        "id": "IENJ32lHu8BU"
      },
      "source": [
        "df.pivot_table(index='Genre',columns='Year',aggfunc='max')"
      ],
      "execution_count": null,
      "outputs": []
    },
    {
      "cell_type": "code",
      "metadata": {
        "id": "4M74b0BmIMJ-"
      },
      "source": [
        "# if you want to fill above NaN value then use fill_value\n",
        "# it will take only scaler value means single value of any type\n",
        "df.pivot_table(index='Genre',columns='Year',aggfunc='sum',fill_value=0)\n"
      ],
      "execution_count": null,
      "outputs": []
    },
    {
      "cell_type": "code",
      "metadata": {
        "id": "kHelbw5oxTjG"
      },
      "source": [
        "df.pivot_table(index='Genre',columns='Year',aggfunc='sum',fill_value='none')"
      ],
      "execution_count": null,
      "outputs": []
    },
    {
      "cell_type": "markdown",
      "metadata": {
        "id": "pp-mYy1mxaSU"
      },
      "source": [
        "* if nay column have NaN value the it will remove autometically \n",
        "* because dropna is true as default"
      ]
    },
    {
      "cell_type": "code",
      "metadata": {
        "id": "H5DRGwfqIoY1"
      },
      "source": [
        "df.pivot_table(index='Genre',columns='Year',aggfunc='mean',fill_value=0,margins=True)\n",
        "# it will treat as mean of all column and rows\n",
        "# and add one All column and rows\n",
        "# defalut it takes mean"
      ],
      "execution_count": null,
      "outputs": []
    },
    {
      "cell_type": "code",
      "metadata": {
        "id": "9p0y1iGSyMvN"
      },
      "source": [
        "df.pivot_table(index='Genre',columns='Year',aggfunc='sum',fill_value=0,margins=True)"
      ],
      "execution_count": null,
      "outputs": []
    },
    {
      "cell_type": "code",
      "metadata": {
        "id": "gSn-7hj_KTLd"
      },
      "source": [
        "df"
      ],
      "execution_count": null,
      "outputs": []
    },
    {
      "cell_type": "markdown",
      "metadata": {
        "id": "_OEtWFAVyg4g"
      },
      "source": [
        "## melt()\n",
        "* it is used to transform or reshape the data"
      ]
    },
    {
      "cell_type": "code",
      "metadata": {
        "id": "2wknUE8hJbRs"
      },
      "source": [
        "# it will create two columns 1. index 2. variable(columns) 3. value(value of variable)\n",
        "pd.melt(df)"
      ],
      "execution_count": null,
      "outputs": []
    },
    {
      "cell_type": "code",
      "metadata": {
        "id": "f7NX_DYVKMog"
      },
      "source": [
        "pd.melt(df,id_vars=['Genre'])"
      ],
      "execution_count": null,
      "outputs": []
    },
    {
      "cell_type": "code",
      "metadata": {
        "id": "v29Z264uK5VP"
      },
      "source": [
        "pd.melt(df,id_vars=['Year'])"
      ],
      "execution_count": null,
      "outputs": []
    },
    {
      "cell_type": "code",
      "metadata": {
        "id": "REH3Y8COLIdg"
      },
      "source": [
        "pd.melt(df,id_vars=['Year'],value_vars=['Genre'])#many columns to few rows use value_vars"
      ],
      "execution_count": null,
      "outputs": []
    },
    {
      "cell_type": "code",
      "metadata": {
        "id": "uQoJB5OqL46S"
      },
      "source": [
        "pd.melt(df,id_vars=['Year'],value_vars=['Rating %'])"
      ],
      "execution_count": null,
      "outputs": []
    },
    {
      "cell_type": "code",
      "metadata": {
        "id": "U6rOQRSKMMfl"
      },
      "source": [
        "# if you want to change variable(column) name then use var_name parametr\n",
        "pd.melt(df,id_vars=['Year'],value_vars=['Rating %'],var_name='category')\n"
      ],
      "execution_count": null,
      "outputs": []
    },
    {
      "cell_type": "code",
      "metadata": {
        "id": "bS3fT0mPMb5e"
      },
      "source": [
        "# if you want to change value(column)) name then use var_name parametr\n",
        "pd.melt(df,id_vars=['Year'],value_vars=['Rating %'],var_name='category',value_name='data')"
      ],
      "execution_count": null,
      "outputs": []
    },
    {
      "cell_type": "markdown",
      "metadata": {
        "id": "mYL4X8x_0l3K"
      },
      "source": [
        "## loc and iloc"
      ]
    },
    {
      "cell_type": "code",
      "metadata": {
        "id": "QB90UJyPMn71"
      },
      "source": [
        "#loc and i loc\n",
        "df"
      ],
      "execution_count": null,
      "outputs": []
    },
    {
      "cell_type": "code",
      "metadata": {
        "id": "Mx5JL-UqNUTi"
      },
      "source": [
        "df.loc[0]"
      ],
      "execution_count": null,
      "outputs": []
    },
    {
      "cell_type": "code",
      "metadata": {
        "id": "sY6VthhRNYuU"
      },
      "source": [
        "df.loc[4]\n"
      ],
      "execution_count": null,
      "outputs": []
    },
    {
      "cell_type": "code",
      "metadata": {
        "id": "xCTPAAwGNkfD"
      },
      "source": [
        "df.loc[[0,1]]\n"
      ],
      "execution_count": null,
      "outputs": []
    },
    {
      "cell_type": "code",
      "metadata": {
        "id": "tPYNlU-3Nrwr"
      },
      "source": [
        "df\n"
      ],
      "execution_count": null,
      "outputs": []
    },
    {
      "cell_type": "code",
      "metadata": {
        "id": "jjRVmT3NN5xA"
      },
      "source": [
        "df.loc[1,'Budget']\n"
      ],
      "execution_count": null,
      "outputs": []
    },
    {
      "cell_type": "code",
      "metadata": {
        "id": "InEaPDoKOCK-"
      },
      "source": [
        "df.loc[0:3,'Budget']\n"
      ],
      "execution_count": null,
      "outputs": []
    },
    {
      "cell_type": "code",
      "metadata": {
        "id": "xG-0r8jfON1g"
      },
      "source": [
        "df.loc[[True,False,True,False,False,False,False,False,False]]"
      ],
      "execution_count": null,
      "outputs": []
    },
    {
      "cell_type": "code",
      "metadata": {
        "id": "YxQH_mVQOh_c"
      },
      "source": [
        "df.loc[df['Budget']>20]"
      ],
      "execution_count": null,
      "outputs": []
    },
    {
      "cell_type": "code",
      "metadata": {
        "id": "I1-bUiCIO3wo"
      },
      "source": [
        "df.iloc[0]"
      ],
      "execution_count": null,
      "outputs": []
    },
    {
      "cell_type": "code",
      "metadata": {
        "id": "gaU_aedKPDCr"
      },
      "source": [
        "df.iloc[[0,1]]"
      ],
      "execution_count": null,
      "outputs": []
    },
    {
      "cell_type": "code",
      "metadata": {
        "id": "ReAtcnNXPesm"
      },
      "source": [
        "df.loc[0:3,'Budget']"
      ],
      "execution_count": null,
      "outputs": []
    },
    {
      "cell_type": "code",
      "metadata": {
        "id": "6dzhnijuPmln"
      },
      "source": [
        "df.iloc[0:3,2]"
      ],
      "execution_count": null,
      "outputs": []
    },
    {
      "cell_type": "code",
      "metadata": {
        "id": "f2BF7buCPrMf"
      },
      "source": [
        ""
      ],
      "execution_count": null,
      "outputs": []
    }
  ]
}